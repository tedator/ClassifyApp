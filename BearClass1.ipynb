{
  "nbformat": 4,
  "nbformat_minor": 0,
  "metadata": {
    "colab": {
      "name": "BearClass1.ipynb",
      "provenance": [],
      "collapsed_sections": []
    },
    "kernelspec": {
      "name": "python3",
      "display_name": "Python 3"
    },
    "language_info": {
      "name": "python"
    },
    "accelerator": "GPU",
    "widgets": {
      "application/vnd.jupyter.widget-state+json": {
        "554bb66aac53435d91dfd88b64201bf1": {
          "model_module": "@jupyter-widgets/controls",
          "model_name": "VBoxModel",
          "model_module_version": "1.5.0",
          "state": {
            "_view_name": "VBoxView",
            "_dom_classes": [],
            "_model_name": "VBoxModel",
            "_view_module": "@jupyter-widgets/controls",
            "_model_module_version": "1.5.0",
            "_view_count": null,
            "_view_module_version": "1.5.0",
            "box_style": "",
            "layout": "IPY_MODEL_1a20d2c222f84f0282801ebf17f8982c",
            "_model_module": "@jupyter-widgets/controls",
            "children": [
              "IPY_MODEL_82fd3ae1796948bdbe2f2e1b243159f4",
              "IPY_MODEL_3f398a8ac2454c56855d2c2ca670bbb4",
              "IPY_MODEL_808517da787e4e89a98644a7a3fbdff0",
              "IPY_MODEL_facf02849f0b42d982f906dbd8919a4c",
              "IPY_MODEL_b260e8ad2d1d42bcba790f8309d6e349"
            ]
          }
        },
        "1a20d2c222f84f0282801ebf17f8982c": {
          "model_module": "@jupyter-widgets/base",
          "model_name": "LayoutModel",
          "model_module_version": "1.2.0",
          "state": {
            "_view_name": "LayoutView",
            "grid_template_rows": null,
            "right": null,
            "justify_content": null,
            "_view_module": "@jupyter-widgets/base",
            "overflow": null,
            "_model_module_version": "1.2.0",
            "_view_count": null,
            "flex_flow": null,
            "width": null,
            "min_width": null,
            "border": null,
            "align_items": null,
            "bottom": null,
            "_model_module": "@jupyter-widgets/base",
            "top": null,
            "grid_column": null,
            "overflow_y": null,
            "overflow_x": null,
            "grid_auto_flow": null,
            "grid_area": null,
            "grid_template_columns": null,
            "flex": null,
            "_model_name": "LayoutModel",
            "justify_items": null,
            "grid_row": null,
            "max_height": null,
            "align_content": null,
            "visibility": null,
            "align_self": null,
            "height": null,
            "min_height": null,
            "padding": null,
            "grid_auto_rows": null,
            "grid_gap": null,
            "max_width": null,
            "order": null,
            "_view_module_version": "1.2.0",
            "grid_template_areas": null,
            "object_position": null,
            "object_fit": null,
            "grid_auto_columns": null,
            "margin": null,
            "display": null,
            "left": null
          }
        },
        "82fd3ae1796948bdbe2f2e1b243159f4": {
          "model_module": "@jupyter-widgets/controls",
          "model_name": "LabelModel",
          "model_module_version": "1.5.0",
          "state": {
            "_view_name": "LabelView",
            "style": "IPY_MODEL_7fc3a6feef7348f69bd9e2ce70c20132",
            "_dom_classes": [],
            "description": "",
            "_model_name": "LabelModel",
            "placeholder": "​",
            "_view_module": "@jupyter-widgets/controls",
            "_model_module_version": "1.5.0",
            "value": "Select your bear!",
            "_view_count": null,
            "_view_module_version": "1.5.0",
            "description_tooltip": null,
            "_model_module": "@jupyter-widgets/controls",
            "layout": "IPY_MODEL_09c96e0e99dd47dd94bf4486b9d1ae53"
          }
        },
        "3f398a8ac2454c56855d2c2ca670bbb4": {
          "model_module": "@jupyter-widgets/controls",
          "model_name": "FileUploadModel",
          "model_module_version": "1.5.0",
          "state": {
            "_view_name": "FileUploadView",
            "_counter": 1,
            "style": "IPY_MODEL_cbb13edfa4194665adf5b0dc454694a9",
            "_dom_classes": [],
            "description": "Upload",
            "multiple": false,
            "_model_name": "FileUploadModel",
            "data": [
              null
            ],
            "button_style": "",
            "_view_module": "@jupyter-widgets/controls",
            "_model_module_version": "1.5.0",
            "accept": "",
            "_view_count": null,
            "disabled": false,
            "_view_module_version": "1.5.0",
            "error": "",
            "description_tooltip": null,
            "metadata": [
              {
                "name": "00000081.jpg",
                "type": "image/jpeg",
                "size": 631006,
                "lastModified": 1643828838883
              }
            ],
            "_model_module": "@jupyter-widgets/controls",
            "layout": "IPY_MODEL_16e173750f874767bddc14d5a297afe9",
            "icon": "upload"
          }
        },
        "808517da787e4e89a98644a7a3fbdff0": {
          "model_module": "@jupyter-widgets/controls",
          "model_name": "ButtonModel",
          "model_module_version": "1.5.0",
          "state": {
            "_view_name": "ButtonView",
            "style": "IPY_MODEL_95c2111c219349b39b67269f6783db35",
            "_dom_classes": [],
            "description": "Classify",
            "_model_name": "ButtonModel",
            "button_style": "",
            "_view_module": "@jupyter-widgets/controls",
            "_model_module_version": "1.5.0",
            "tooltip": "",
            "_view_count": null,
            "disabled": false,
            "_view_module_version": "1.5.0",
            "layout": "IPY_MODEL_384b704a162146c69e2b613ddcb58658",
            "_model_module": "@jupyter-widgets/controls",
            "icon": ""
          }
        },
        "facf02849f0b42d982f906dbd8919a4c": {
          "model_module": "@jupyter-widgets/output",
          "model_name": "OutputModel",
          "model_module_version": "1.0.0",
          "state": {
            "_view_name": "OutputView",
            "msg_id": "",
            "_dom_classes": [],
            "_model_name": "OutputModel",
            "outputs": [
              {
                "output_type": "display_data",
                "data": {
                  "image/png": "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\n",
                  "text/plain": "<PIL.Image.Image image mode=RGB size=128x72 at 0x7FA887195F90>"
                },
                "metadata": {}
              }
            ],
            "_view_module": "@jupyter-widgets/output",
            "_model_module_version": "1.0.0",
            "_view_count": null,
            "_view_module_version": "1.0.0",
            "layout": "IPY_MODEL_4dac1731cef145829aa220cd2a297e0f",
            "_model_module": "@jupyter-widgets/output"
          }
        },
        "b260e8ad2d1d42bcba790f8309d6e349": {
          "model_module": "@jupyter-widgets/controls",
          "model_name": "LabelModel",
          "model_module_version": "1.5.0",
          "state": {
            "_view_name": "LabelView",
            "style": "IPY_MODEL_f6bbbddbc746491cb835c581d4cadfc7",
            "_dom_classes": [],
            "description": "",
            "_model_name": "LabelModel",
            "placeholder": "​",
            "_view_module": "@jupyter-widgets/controls",
            "_model_module_version": "1.5.0",
            "value": "Prediction: grizzly; Probability: 0.9908",
            "_view_count": null,
            "_view_module_version": "1.5.0",
            "description_tooltip": null,
            "_model_module": "@jupyter-widgets/controls",
            "layout": "IPY_MODEL_2e0a4ce36663405c85048e5ad5a43c7c"
          }
        },
        "7fc3a6feef7348f69bd9e2ce70c20132": {
          "model_module": "@jupyter-widgets/controls",
          "model_name": "DescriptionStyleModel",
          "model_module_version": "1.5.0",
          "state": {
            "_view_name": "StyleView",
            "_model_name": "DescriptionStyleModel",
            "description_width": "",
            "_view_module": "@jupyter-widgets/base",
            "_model_module_version": "1.5.0",
            "_view_count": null,
            "_view_module_version": "1.2.0",
            "_model_module": "@jupyter-widgets/controls"
          }
        },
        "09c96e0e99dd47dd94bf4486b9d1ae53": {
          "model_module": "@jupyter-widgets/base",
          "model_name": "LayoutModel",
          "model_module_version": "1.2.0",
          "state": {
            "_view_name": "LayoutView",
            "grid_template_rows": null,
            "right": null,
            "justify_content": null,
            "_view_module": "@jupyter-widgets/base",
            "overflow": null,
            "_model_module_version": "1.2.0",
            "_view_count": null,
            "flex_flow": null,
            "width": null,
            "min_width": null,
            "border": null,
            "align_items": null,
            "bottom": null,
            "_model_module": "@jupyter-widgets/base",
            "top": null,
            "grid_column": null,
            "overflow_y": null,
            "overflow_x": null,
            "grid_auto_flow": null,
            "grid_area": null,
            "grid_template_columns": null,
            "flex": null,
            "_model_name": "LayoutModel",
            "justify_items": null,
            "grid_row": null,
            "max_height": null,
            "align_content": null,
            "visibility": null,
            "align_self": null,
            "height": null,
            "min_height": null,
            "padding": null,
            "grid_auto_rows": null,
            "grid_gap": null,
            "max_width": null,
            "order": null,
            "_view_module_version": "1.2.0",
            "grid_template_areas": null,
            "object_position": null,
            "object_fit": null,
            "grid_auto_columns": null,
            "margin": null,
            "display": null,
            "left": null
          }
        },
        "cbb13edfa4194665adf5b0dc454694a9": {
          "model_module": "@jupyter-widgets/controls",
          "model_name": "ButtonStyleModel",
          "model_module_version": "1.5.0",
          "state": {
            "_view_name": "StyleView",
            "_model_name": "ButtonStyleModel",
            "_view_module": "@jupyter-widgets/base",
            "_model_module_version": "1.5.0",
            "_view_count": null,
            "button_color": null,
            "font_weight": "",
            "_view_module_version": "1.2.0",
            "_model_module": "@jupyter-widgets/controls"
          }
        },
        "16e173750f874767bddc14d5a297afe9": {
          "model_module": "@jupyter-widgets/base",
          "model_name": "LayoutModel",
          "model_module_version": "1.2.0",
          "state": {
            "_view_name": "LayoutView",
            "grid_template_rows": null,
            "right": null,
            "justify_content": null,
            "_view_module": "@jupyter-widgets/base",
            "overflow": null,
            "_model_module_version": "1.2.0",
            "_view_count": null,
            "flex_flow": null,
            "width": null,
            "min_width": null,
            "border": null,
            "align_items": null,
            "bottom": null,
            "_model_module": "@jupyter-widgets/base",
            "top": null,
            "grid_column": null,
            "overflow_y": null,
            "overflow_x": null,
            "grid_auto_flow": null,
            "grid_area": null,
            "grid_template_columns": null,
            "flex": null,
            "_model_name": "LayoutModel",
            "justify_items": null,
            "grid_row": null,
            "max_height": null,
            "align_content": null,
            "visibility": null,
            "align_self": null,
            "height": null,
            "min_height": null,
            "padding": null,
            "grid_auto_rows": null,
            "grid_gap": null,
            "max_width": null,
            "order": null,
            "_view_module_version": "1.2.0",
            "grid_template_areas": null,
            "object_position": null,
            "object_fit": null,
            "grid_auto_columns": null,
            "margin": null,
            "display": null,
            "left": null
          }
        },
        "95c2111c219349b39b67269f6783db35": {
          "model_module": "@jupyter-widgets/controls",
          "model_name": "ButtonStyleModel",
          "model_module_version": "1.5.0",
          "state": {
            "_view_name": "StyleView",
            "_model_name": "ButtonStyleModel",
            "_view_module": "@jupyter-widgets/base",
            "_model_module_version": "1.5.0",
            "_view_count": null,
            "button_color": null,
            "font_weight": "",
            "_view_module_version": "1.2.0",
            "_model_module": "@jupyter-widgets/controls"
          }
        },
        "384b704a162146c69e2b613ddcb58658": {
          "model_module": "@jupyter-widgets/base",
          "model_name": "LayoutModel",
          "model_module_version": "1.2.0",
          "state": {
            "_view_name": "LayoutView",
            "grid_template_rows": null,
            "right": null,
            "justify_content": null,
            "_view_module": "@jupyter-widgets/base",
            "overflow": null,
            "_model_module_version": "1.2.0",
            "_view_count": null,
            "flex_flow": null,
            "width": null,
            "min_width": null,
            "border": null,
            "align_items": null,
            "bottom": null,
            "_model_module": "@jupyter-widgets/base",
            "top": null,
            "grid_column": null,
            "overflow_y": null,
            "overflow_x": null,
            "grid_auto_flow": null,
            "grid_area": null,
            "grid_template_columns": null,
            "flex": null,
            "_model_name": "LayoutModel",
            "justify_items": null,
            "grid_row": null,
            "max_height": null,
            "align_content": null,
            "visibility": null,
            "align_self": null,
            "height": null,
            "min_height": null,
            "padding": null,
            "grid_auto_rows": null,
            "grid_gap": null,
            "max_width": null,
            "order": null,
            "_view_module_version": "1.2.0",
            "grid_template_areas": null,
            "object_position": null,
            "object_fit": null,
            "grid_auto_columns": null,
            "margin": null,
            "display": null,
            "left": null
          }
        },
        "f6bbbddbc746491cb835c581d4cadfc7": {
          "model_module": "@jupyter-widgets/controls",
          "model_name": "DescriptionStyleModel",
          "model_module_version": "1.5.0",
          "state": {
            "_view_name": "StyleView",
            "_model_name": "DescriptionStyleModel",
            "description_width": "",
            "_view_module": "@jupyter-widgets/base",
            "_model_module_version": "1.5.0",
            "_view_count": null,
            "_view_module_version": "1.2.0",
            "_model_module": "@jupyter-widgets/controls"
          }
        },
        "2e0a4ce36663405c85048e5ad5a43c7c": {
          "model_module": "@jupyter-widgets/base",
          "model_name": "LayoutModel",
          "model_module_version": "1.2.0",
          "state": {
            "_view_name": "LayoutView",
            "grid_template_rows": null,
            "right": null,
            "justify_content": null,
            "_view_module": "@jupyter-widgets/base",
            "overflow": null,
            "_model_module_version": "1.2.0",
            "_view_count": null,
            "flex_flow": null,
            "width": null,
            "min_width": null,
            "border": null,
            "align_items": null,
            "bottom": null,
            "_model_module": "@jupyter-widgets/base",
            "top": null,
            "grid_column": null,
            "overflow_y": null,
            "overflow_x": null,
            "grid_auto_flow": null,
            "grid_area": null,
            "grid_template_columns": null,
            "flex": null,
            "_model_name": "LayoutModel",
            "justify_items": null,
            "grid_row": null,
            "max_height": null,
            "align_content": null,
            "visibility": null,
            "align_self": null,
            "height": null,
            "min_height": null,
            "padding": null,
            "grid_auto_rows": null,
            "grid_gap": null,
            "max_width": null,
            "order": null,
            "_view_module_version": "1.2.0",
            "grid_template_areas": null,
            "object_position": null,
            "object_fit": null,
            "grid_auto_columns": null,
            "margin": null,
            "display": null,
            "left": null
          }
        },
        "4dac1731cef145829aa220cd2a297e0f": {
          "model_module": "@jupyter-widgets/base",
          "model_name": "LayoutModel",
          "model_module_version": "1.2.0",
          "state": {
            "_view_name": "LayoutView",
            "grid_template_rows": null,
            "right": null,
            "justify_content": null,
            "_view_module": "@jupyter-widgets/base",
            "overflow": null,
            "_model_module_version": "1.2.0",
            "_view_count": null,
            "flex_flow": null,
            "width": null,
            "min_width": null,
            "border": null,
            "align_items": null,
            "bottom": null,
            "_model_module": "@jupyter-widgets/base",
            "top": null,
            "grid_column": null,
            "overflow_y": null,
            "overflow_x": null,
            "grid_auto_flow": null,
            "grid_area": null,
            "grid_template_columns": null,
            "flex": null,
            "_model_name": "LayoutModel",
            "justify_items": null,
            "grid_row": null,
            "max_height": null,
            "align_content": null,
            "visibility": null,
            "align_self": null,
            "height": null,
            "min_height": null,
            "padding": null,
            "grid_auto_rows": null,
            "grid_gap": null,
            "max_width": null,
            "order": null,
            "_view_module_version": "1.2.0",
            "grid_template_areas": null,
            "object_position": null,
            "object_fit": null,
            "grid_auto_columns": null,
            "margin": null,
            "display": null,
            "left": null
          }
        }
      }
    }
  },
  "cells": [
    {
      "cell_type": "code",
      "execution_count": null,
      "metadata": {
        "id": "uRFAwi5n8duI"
      },
      "outputs": [],
      "source": [
        "#hide output\n",
        "!pip install fastai --upgrade\n",
        "from fastai.vision.all import *\n",
        "from fastai.vision.widgets import *\n",
        "!pip install ipywidgets\n",
        "!pip install voila\n",
        "!jupyter serverextension enable --sys-prefix voila"
      ]
    },
    {
      "cell_type": "code",
      "source": [
        "path = Path()\n",
        "learn_inf = load_learner('https://drive.google.com/file/d/18kzz3hwTjzD6o0vi9mBuirhXCEQtl1AB/view?usp=sharing')\n",
        "btn_upload = widgets.FileUpload()\n",
        "out_pl = widgets.Output()\n",
        "lbl_pred = widgets.Label()"
      ],
      "metadata": {
        "id": "2nhilXXqE52k"
      },
      "execution_count": 17,
      "outputs": []
    },
    {
      "cell_type": "code",
      "source": [
        "btn_upload = widgets.FileUpload()\n",
        "#btn_upload"
      ],
      "metadata": {
        "id": "A5A7iwsHCJWW"
      },
      "execution_count": null,
      "outputs": []
    },
    {
      "cell_type": "code",
      "source": [
        "btn_run = widgets.Button(description='Classify')\n",
        "#btn_run"
      ],
      "metadata": {
        "id": "kGke-K8UCKRU"
      },
      "execution_count": null,
      "outputs": []
    },
    {
      "cell_type": "code",
      "source": [
        ""
      ],
      "metadata": {
        "id": "p0_BaGHsKU9K"
      },
      "execution_count": null,
      "outputs": []
    },
    {
      "cell_type": "markdown",
      "source": [
        "## **BLACK BEAR, GRIZZLY BEAR or TEDDY BEAR**"
      ],
      "metadata": {
        "id": "kLP4n9tvJl9l"
      }
    },
    {
      "cell_type": "markdown",
      "source": [
        "**This model predicts which of the 3 types of bear from above your picture is**"
      ],
      "metadata": {
        "id": "ZiwcwcXSJ7n0"
      }
    },
    {
      "cell_type": "markdown",
      "source": [
        "*limited to these types of bears please...nothing crazy!*"
      ],
      "metadata": {
        "id": "w0zXzGvFKHCO"
      }
    },
    {
      "cell_type": "code",
      "execution_count": 27,
      "metadata": {
        "id": "b3joR2Rr0eYc"
      },
      "outputs": [],
      "source": [
        "def on_click_classify(change):\n",
        "    img = PILImage.create(btn_upload.data[-1])\n",
        "    out_pl.clear_output()\n",
        "    with out_pl: display(img.to_thumb(128,128))\n",
        "    pred,pred_idx,probs = learn_inf.predict(img)\n",
        "    lbl_pred.value = f'Prediction: {pred}; Probability: {probs[pred_idx]:.04f}'\n",
        "\n",
        "btn_run.on_click(on_click_classify)"
      ]
    },
    {
      "cell_type": "code",
      "execution_count": 24,
      "metadata": {
        "id": "vPEnpGYX0eYc",
        "outputId": "f31fb591-a882-46f3-9b17-eb8e380100a1",
        "colab": {
          "base_uri": "https://localhost:8080/",
          "height": 217,
          "referenced_widgets": [
            "554bb66aac53435d91dfd88b64201bf1",
            "1a20d2c222f84f0282801ebf17f8982c",
            "82fd3ae1796948bdbe2f2e1b243159f4",
            "3f398a8ac2454c56855d2c2ca670bbb4",
            "808517da787e4e89a98644a7a3fbdff0",
            "facf02849f0b42d982f906dbd8919a4c",
            "b260e8ad2d1d42bcba790f8309d6e349",
            "7fc3a6feef7348f69bd9e2ce70c20132",
            "09c96e0e99dd47dd94bf4486b9d1ae53",
            "cbb13edfa4194665adf5b0dc454694a9",
            "16e173750f874767bddc14d5a297afe9",
            "95c2111c219349b39b67269f6783db35",
            "384b704a162146c69e2b613ddcb58658",
            "f6bbbddbc746491cb835c581d4cadfc7",
            "2e0a4ce36663405c85048e5ad5a43c7c",
            "4dac1731cef145829aa220cd2a297e0f"
          ]
        }
      },
      "outputs": [
        {
          "output_type": "display_data",
          "data": {
            "application/vnd.jupyter.widget-view+json": {
              "model_id": "554bb66aac53435d91dfd88b64201bf1",
              "version_minor": 0,
              "version_major": 2
            },
            "text/plain": [
              "VBox(children=(Label(value='Select your bear!'), FileUpload(value={}, description='Upload'), Button(descriptio…"
            ]
          },
          "metadata": {}
        },
        {
          "output_type": "display_data",
          "data": {
            "text/html": [
              ""
            ],
            "text/plain": [
              "<IPython.core.display.HTML object>"
            ]
          },
          "metadata": {}
        }
      ],
      "source": [
        "#hide_output\n",
        "VBox([widgets.Label('Upload your bear pic!'), \n",
        "      btn_upload, btn_run, out_pl, lbl_pred])"
      ]
    }
  ]
}